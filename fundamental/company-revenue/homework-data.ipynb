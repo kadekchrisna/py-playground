{
 "cells": [
  {
   "cell_type": "code",
   "execution_count": 2,
   "metadata": {},
   "outputs": [],
   "source": [
    "#Data \n",
    "revenue = [14574.49, 7606.46, 8611.41, 9175.41, 8058.65, 8105.44, 11496.28, 9766.09, 10305.32, 14379.96, 10713.97, 15433.50]\n",
    "expenses = [12051.82, 5695.07, 12319.20, 12089.72, 8658.57, 840.20, 3285.73, 5821.12, 6976.93, 16618.61, 10054.37, 3803.96]"
   ]
  },
  {
   "cell_type": "code",
   "execution_count": 3,
   "metadata": {},
   "outputs": [],
   "source": [
    "import numpy as np"
   ]
  },
  {
   "cell_type": "code",
   "execution_count": 26,
   "metadata": {},
   "outputs": [
    {
     "output_type": "stream",
     "name": "stdout",
     "text": [
      "profit after tax [1766, 1338, -2595, -2040, -420, 5086, 5747, 2761, 2330, -1567, 462, 8141]\naverage profit after tax 1750.75\nbad month [1338, -2595, -2040, -420, -1567, 462]\ngood month [1766, 5086, 5747, 2761, 2330, 8141]\nbest month 8141\nworst month -2595\nworst month [2, 3, 4, 5, 6, 7, 8, 9, 10]\n"
     ]
    }
   ],
   "source": [
    "\n",
    "\n",
    "i = 0\n",
    "profits = []\n",
    "profitsAfterTax = []\n",
    "profitMargins = []\n",
    "\n",
    "revenueTotal = 0.0\n",
    "goodMonth = 0.0\n",
    "badMonth = 0.0\n",
    "while i < len(revenue):\n",
    "    profit = revenue[i] - expenses[i]\n",
    "    profits.append(profit)\n",
    "\n",
    "    revenueTotal += revenue[i]\n",
    "\n",
    "    profitAfterTax = round(profit - (profit*0.3))\n",
    "    profitMargins.append(revenue[i]/profitAfterTax) \n",
    "    profitsAfterTax.append(profitAfterTax)\n",
    "    i+=1\n",
    "\n",
    "averagePAT = np.array(profitsAfterTax)\n",
    "\n",
    "bestMonth = averagePAT.max()\n",
    "worstMonth = averagePAT.min()\n",
    "patMean = np.mean(averagePAT)\n",
    "\n",
    "goodMonths = []\n",
    "badMonths = []\n",
    "for pat in profitsAfterTax:\n",
    "    if pat > patMean:\n",
    "        goodMonths.append(pat)\n",
    "    \n",
    "    if pat < patMean:\n",
    "        badMonths.append(pat)\n",
    "\n",
    "print('profit after tax', profitsAfterTax)\n",
    "print('average profit after tax', patMean)\n",
    "print('bad month', badMonths)\n",
    "print('good month', goodMonths)\n",
    "print('best month', bestMonth)\n",
    "print('worst month', worstMonth)\n",
    "print('worst month', list(range(2,11)))"
   ]
  },
  {
   "cell_type": "code",
   "execution_count": 30,
   "metadata": {},
   "outputs": [
    {
     "output_type": "stream",
     "name": "stdout",
     "text": [
      "['a', 'b', 'c', 'd', 'e', 'f']\n"
     ]
    }
   ],
   "source": [
    "l1 = [20, 'a', 21, 'b', 22, 'c', 23, 'd', 24, 'e', 25, 'f']\n",
    "\n",
    "print(l1[1:12:2])"
   ]
  },
  {
   "cell_type": "code",
   "execution_count": null,
   "metadata": {},
   "outputs": [],
   "source": []
  }
 ],
 "metadata": {
  "kernelspec": {
   "name": "python388jvsc74a57bd0dca0ade3e726a953b501b15e8e990130d2b7799f14cfd9f4271676035ebe5511",
   "display_name": "Python 3.8.8 64-bit ('base': conda)"
  },
  "language_info": {
   "codemirror_mode": {
    "name": "ipython",
    "version": 3
   },
   "file_extension": ".py",
   "mimetype": "text/x-python",
   "name": "python",
   "nbconvert_exporter": "python",
   "pygments_lexer": "ipython3",
   "version": "3.8.8"
  }
 },
 "nbformat": 4,
 "nbformat_minor": 1
}