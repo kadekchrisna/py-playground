{
 "metadata": {
  "language_info": {
   "codemirror_mode": {
    "name": "ipython",
    "version": 3
   },
   "file_extension": ".py",
   "mimetype": "text/x-python",
   "name": "python",
   "nbconvert_exporter": "python",
   "pygments_lexer": "ipython3",
   "version": "3.8.8"
  },
  "orig_nbformat": 2,
  "kernelspec": {
   "name": "python388jvsc74a57bd0dca0ade3e726a953b501b15e8e990130d2b7799f14cfd9f4271676035ebe5511",
   "display_name": "Python 3.8.8 64-bit ('base': conda)"
  }
 },
 "nbformat": 4,
 "nbformat_minor": 2,
 "cells": [
  {
   "cell_type": "code",
   "execution_count": 1,
   "metadata": {},
   "outputs": [],
   "source": [
    "import numpy as np"
   ]
  },
  {
   "cell_type": "code",
   "execution_count": 2,
   "metadata": {},
   "outputs": [],
   "source": [
    "a = np.arange(100)"
   ]
  },
  {
   "cell_type": "code",
   "execution_count": 3,
   "metadata": {},
   "outputs": [
    {
     "output_type": "execute_result",
     "data": {
      "text/plain": [
       "array([ 0,  1,  2,  3,  4,  5,  6,  7,  8,  9, 10, 11, 12, 13, 14, 15, 16,\n",
       "       17, 18, 19, 20, 21, 22, 23, 24, 25, 26, 27, 28, 29, 30, 31, 32, 33,\n",
       "       34, 35, 36, 37, 38, 39, 40, 41, 42, 43, 44, 45, 46, 47, 48, 49, 50,\n",
       "       51, 52, 53, 54, 55, 56, 57, 58, 59, 60, 61, 62, 63, 64, 65, 66, 67,\n",
       "       68, 69, 70, 71, 72, 73, 74, 75, 76, 77, 78, 79, 80, 81, 82, 83, 84,\n",
       "       85, 86, 87, 88, 89, 90, 91, 92, 93, 94, 95, 96, 97, 98, 99])"
      ]
     },
     "metadata": {},
     "execution_count": 3
    }
   ],
   "source": [
    "a"
   ]
  },
  {
   "cell_type": "code",
   "execution_count": 6,
   "metadata": {},
   "outputs": [
    {
     "output_type": "execute_result",
     "data": {
      "text/plain": [
       "array([3, 4, 5, 6, 7, 8, 9])"
      ]
     },
     "metadata": {},
     "execution_count": 6
    }
   ],
   "source": [
    "b = a[3:10]\n",
    "b"
   ]
  },
  {
   "cell_type": "code",
   "execution_count": 7,
   "metadata": {},
   "outputs": [],
   "source": [
    "b[0] = 10"
   ]
  },
  {
   "cell_type": "code",
   "execution_count": 8,
   "metadata": {},
   "outputs": [
    {
     "output_type": "execute_result",
     "data": {
      "text/plain": [
       "array([ 0,  1,  2, 10,  4,  5,  6,  7,  8,  9, 10, 11, 12, 13, 14, 15, 16,\n",
       "       17, 18, 19, 20, 21, 22, 23, 24, 25, 26, 27, 28, 29, 30, 31, 32, 33,\n",
       "       34, 35, 36, 37, 38, 39, 40, 41, 42, 43, 44, 45, 46, 47, 48, 49, 50,\n",
       "       51, 52, 53, 54, 55, 56, 57, 58, 59, 60, 61, 62, 63, 64, 65, 66, 67,\n",
       "       68, 69, 70, 71, 72, 73, 74, 75, 76, 77, 78, 79, 80, 81, 82, 83, 84,\n",
       "       85, 86, 87, 88, 89, 90, 91, 92, 93, 94, 95, 96, 97, 98, 99])"
      ]
     },
     "metadata": {},
     "execution_count": 8
    }
   ],
   "source": [
    "b\n",
    "a"
   ]
  },
  {
   "cell_type": "code",
   "execution_count": 9,
   "metadata": {},
   "outputs": [
    {
     "output_type": "execute_result",
     "data": {
      "text/plain": [
       "array([10,  4,  5,  6,  7,  8,  9])"
      ]
     },
     "metadata": {},
     "execution_count": 9
    }
   ],
   "source": [
    "b"
   ]
  },
  {
   "cell_type": "code",
   "execution_count": 10,
   "metadata": {},
   "outputs": [],
   "source": [
    "b = a[3:10].copy()"
   ]
  },
  {
   "cell_type": "code",
   "execution_count": 11,
   "metadata": {},
   "outputs": [
    {
     "output_type": "execute_result",
     "data": {
      "text/plain": [
       "array([10,  4,  5,  6,  7,  8,  9])"
      ]
     },
     "metadata": {},
     "execution_count": 11
    }
   ],
   "source": [
    "b"
   ]
  },
  {
   "cell_type": "code",
   "execution_count": 12,
   "metadata": {},
   "outputs": [
    {
     "output_type": "execute_result",
     "data": {
      "text/plain": [
       "array([3, 4, 5, 6, 7, 8, 9])"
      ]
     },
     "metadata": {},
     "execution_count": 12
    }
   ],
   "source": [
    "b[0]=3\n",
    "b"
   ]
  },
  {
   "cell_type": "code",
   "execution_count": 13,
   "metadata": {},
   "outputs": [
    {
     "output_type": "execute_result",
     "data": {
      "text/plain": [
       "array([ 0,  1,  2, 10,  4,  5,  6,  7,  8,  9, 10, 11, 12, 13, 14, 15, 16,\n",
       "       17, 18, 19, 20, 21, 22, 23, 24, 25, 26, 27, 28, 29, 30, 31, 32, 33,\n",
       "       34, 35, 36, 37, 38, 39, 40, 41, 42, 43, 44, 45, 46, 47, 48, 49, 50,\n",
       "       51, 52, 53, 54, 55, 56, 57, 58, 59, 60, 61, 62, 63, 64, 65, 66, 67,\n",
       "       68, 69, 70, 71, 72, 73, 74, 75, 76, 77, 78, 79, 80, 81, 82, 83, 84,\n",
       "       85, 86, 87, 88, 89, 90, 91, 92, 93, 94, 95, 96, 97, 98, 99])"
      ]
     },
     "metadata": {},
     "execution_count": 13
    }
   ],
   "source": [
    "a"
   ]
  },
  {
   "cell_type": "code",
   "execution_count": 14,
   "metadata": {},
   "outputs": [],
   "source": [
    "b = (a == 10)"
   ]
  },
  {
   "cell_type": "code",
   "execution_count": 15,
   "metadata": {},
   "outputs": [
    {
     "output_type": "execute_result",
     "data": {
      "text/plain": [
       "array([False, False, False,  True, False, False, False, False, False,\n",
       "       False,  True, False, False, False, False, False, False, False,\n",
       "       False, False, False, False, False, False, False, False, False,\n",
       "       False, False, False, False, False, False, False, False, False,\n",
       "       False, False, False, False, False, False, False, False, False,\n",
       "       False, False, False, False, False, False, False, False, False,\n",
       "       False, False, False, False, False, False, False, False, False,\n",
       "       False, False, False, False, False, False, False, False, False,\n",
       "       False, False, False, False, False, False, False, False, False,\n",
       "       False, False, False, False, False, False, False, False, False,\n",
       "       False, False, False, False, False, False, False, False, False,\n",
       "       False])"
      ]
     },
     "metadata": {},
     "execution_count": 15
    }
   ],
   "source": [
    "b"
   ]
  },
  {
   "cell_type": "code",
   "execution_count": 16,
   "metadata": {},
   "outputs": [],
   "source": [
    "b = (a == 10)*np.arange(a.size)"
   ]
  },
  {
   "cell_type": "code",
   "execution_count": 17,
   "metadata": {},
   "outputs": [
    {
     "output_type": "execute_result",
     "data": {
      "text/plain": [
       "100"
      ]
     },
     "metadata": {},
     "execution_count": 17
    }
   ],
   "source": [
    "a.size"
   ]
  },
  {
   "cell_type": "code",
   "execution_count": 18,
   "metadata": {},
   "outputs": [
    {
     "output_type": "execute_result",
     "data": {
      "text/plain": [
       "array([ 0,  0,  0,  3,  0,  0,  0,  0,  0,  0, 10,  0,  0,  0,  0,  0,  0,\n",
       "        0,  0,  0,  0,  0,  0,  0,  0,  0,  0,  0,  0,  0,  0,  0,  0,  0,\n",
       "        0,  0,  0,  0,  0,  0,  0,  0,  0,  0,  0,  0,  0,  0,  0,  0,  0,\n",
       "        0,  0,  0,  0,  0,  0,  0,  0,  0,  0,  0,  0,  0,  0,  0,  0,  0,\n",
       "        0,  0,  0,  0,  0,  0,  0,  0,  0,  0,  0,  0,  0,  0,  0,  0,  0,\n",
       "        0,  0,  0,  0,  0,  0,  0,  0,  0,  0,  0,  0,  0,  0,  0])"
      ]
     },
     "metadata": {},
     "execution_count": 18
    }
   ],
   "source": [
    "b\n"
   ]
  },
  {
   "cell_type": "code",
   "execution_count": 19,
   "metadata": {},
   "outputs": [
    {
     "output_type": "stream",
     "text": [
      "\u001b[0;31mSignature:\u001b[0m \u001b[0mnp\u001b[0m\u001b[0;34m.\u001b[0m\u001b[0margwhere\u001b[0m\u001b[0;34m(\u001b[0m\u001b[0ma\u001b[0m\u001b[0;34m)\u001b[0m\u001b[0;34m\u001b[0m\u001b[0;34m\u001b[0m\u001b[0m\n",
      "\u001b[0;31mDocstring:\u001b[0m\n",
      "Find the indices of array elements that are non-zero, grouped by element.\n",
      "\n",
      "Parameters\n",
      "----------\n",
      "a : array_like\n",
      "    Input data.\n",
      "\n",
      "Returns\n",
      "-------\n",
      "index_array : (N, a.ndim) ndarray\n",
      "    Indices of elements that are non-zero. Indices are grouped by element.\n",
      "    This array will have shape ``(N, a.ndim)`` where ``N`` is the number of\n",
      "    non-zero items.\n",
      "\n",
      "See Also\n",
      "--------\n",
      "where, nonzero\n",
      "\n",
      "Notes\n",
      "-----\n",
      "``np.argwhere(a)`` is almost the same as ``np.transpose(np.nonzero(a))``,\n",
      "but produces a result of the correct shape for a 0D array.\n",
      "\n",
      "The output of ``argwhere`` is not suitable for indexing arrays.\n",
      "For this purpose use ``nonzero(a)`` instead.\n",
      "\n",
      "Examples\n",
      "--------\n",
      ">>> x = np.arange(6).reshape(2,3)\n",
      ">>> x\n",
      "array([[0, 1, 2],\n",
      "       [3, 4, 5]])\n",
      ">>> np.argwhere(x>1)\n",
      "array([[0, 2],\n",
      "       [1, 0],\n",
      "       [1, 1],\n",
      "       [1, 2]])\n",
      "\u001b[0;31mFile:\u001b[0m      /opt/anaconda3/lib/python3.8/site-packages/numpy/core/numeric.py\n",
      "\u001b[0;31mType:\u001b[0m      function\n"
     ],
     "name": "stdout"
    }
   ],
   "source": [
    "np.argwhere?\n"
   ]
  },
  {
   "cell_type": "code",
   "execution_count": 20,
   "metadata": {},
   "outputs": [
    {
     "output_type": "error",
     "ename": "TypeError",
     "evalue": "zeros() missing required argument 'shape' (pos 1)",
     "traceback": [
      "\u001b[0;31m---------------------------------------------------------------------------\u001b[0m",
      "\u001b[0;31mTypeError\u001b[0m                                 Traceback (most recent call last)",
      "\u001b[0;32m<ipython-input-20-1f1453558d9e>\u001b[0m in \u001b[0;36m<module>\u001b[0;34m\u001b[0m\n\u001b[0;32m----> 1\u001b[0;31m \u001b[0mnp\u001b[0m\u001b[0;34m.\u001b[0m\u001b[0mtranspose\u001b[0m\u001b[0;34m(\u001b[0m\u001b[0mnp\u001b[0m\u001b[0;34m.\u001b[0m\u001b[0mzeros\u001b[0m\u001b[0;34m(\u001b[0m\u001b[0;34m)\u001b[0m\u001b[0;34m)\u001b[0m\u001b[0;34m\u001b[0m\u001b[0;34m\u001b[0m\u001b[0m\n\u001b[0m",
      "\u001b[0;31mTypeError\u001b[0m: zeros() missing required argument 'shape' (pos 1)"
     ]
    }
   ],
   "source": [
    "np.transpose(np.zeros())"
   ]
  },
  {
   "cell_type": "code",
   "execution_count": 21,
   "metadata": {},
   "outputs": [
    {
     "output_type": "stream",
     "text": [
      "\u001b[0;31mSignature:\u001b[0m \u001b[0mnp\u001b[0m\u001b[0;34m.\u001b[0m\u001b[0mtranspose\u001b[0m\u001b[0;34m(\u001b[0m\u001b[0ma\u001b[0m\u001b[0;34m,\u001b[0m \u001b[0maxes\u001b[0m\u001b[0;34m=\u001b[0m\u001b[0;32mNone\u001b[0m\u001b[0;34m)\u001b[0m\u001b[0;34m\u001b[0m\u001b[0;34m\u001b[0m\u001b[0m\n",
      "\u001b[0;31mDocstring:\u001b[0m\n",
      "Reverse or permute the axes of an array; returns the modified array.\n",
      "\n",
      "For an array a with two axes, transpose(a) gives the matrix transpose.\n",
      "\n",
      "Parameters\n",
      "----------\n",
      "a : array_like\n",
      "    Input array.\n",
      "axes : tuple or list of ints, optional\n",
      "    If specified, it must be a tuple or list which contains a permutation of\n",
      "    [0,1,..,N-1] where N is the number of axes of a.  The i'th axis of the\n",
      "    returned array will correspond to the axis numbered ``axes[i]`` of the\n",
      "    input.  If not specified, defaults to ``range(a.ndim)[::-1]``, which\n",
      "    reverses the order of the axes.\n",
      "\n",
      "Returns\n",
      "-------\n",
      "p : ndarray\n",
      "    `a` with its axes permuted.  A view is returned whenever\n",
      "    possible.\n",
      "\n",
      "See Also\n",
      "--------\n",
      "moveaxis\n",
      "argsort\n",
      "\n",
      "Notes\n",
      "-----\n",
      "Use `transpose(a, argsort(axes))` to invert the transposition of tensors\n",
      "when using the `axes` keyword argument.\n",
      "\n",
      "Transposing a 1-D array returns an unchanged view of the original array.\n",
      "\n",
      "Examples\n",
      "--------\n",
      ">>> x = np.arange(4).reshape((2,2))\n",
      ">>> x\n",
      "array([[0, 1],\n",
      "       [2, 3]])\n",
      "\n",
      ">>> np.transpose(x)\n",
      "array([[0, 2],\n",
      "       [1, 3]])\n",
      "\n",
      ">>> x = np.ones((1, 2, 3))\n",
      ">>> np.transpose(x, (1, 0, 2)).shape\n",
      "(2, 1, 3)\n",
      "\n",
      ">>> x = np.ones((2, 3, 4, 5))\n",
      ">>> np.transpose(x).shape\n",
      "(5, 4, 3, 2)\n",
      "\u001b[0;31mFile:\u001b[0m      /opt/anaconda3/lib/python3.8/site-packages/numpy/core/fromnumeric.py\n",
      "\u001b[0;31mType:\u001b[0m      function\n"
     ],
     "name": "stdout"
    }
   ],
   "source": [
    "np.transpose?\n",
    "\n"
   ]
  },
  {
   "cell_type": "code",
   "execution_count": 23,
   "metadata": {},
   "outputs": [
    {
     "output_type": "execute_result",
     "data": {
      "text/plain": [
       "array([0, 0, 1, 0])"
      ]
     },
     "metadata": {},
     "execution_count": 23
    }
   ],
   "source": [
    "np.transpose(np.array([0,0,1,0]))"
   ]
  },
  {
   "cell_type": "code",
   "execution_count": 28,
   "metadata": {},
   "outputs": [
    {
     "output_type": "execute_result",
     "data": {
      "text/plain": [
       "3"
      ]
     },
     "metadata": {},
     "execution_count": 28
    }
   ],
   "source": [
    "np.nonzero((a==10))[0][0]\n"
   ]
  },
  {
   "cell_type": "code",
   "execution_count": 26,
   "metadata": {},
   "outputs": [
    {
     "output_type": "stream",
     "text": [
      "\u001b[0;31mSignature:\u001b[0m \u001b[0mnp\u001b[0m\u001b[0;34m.\u001b[0m\u001b[0mnonzero\u001b[0m\u001b[0;34m(\u001b[0m\u001b[0ma\u001b[0m\u001b[0;34m)\u001b[0m\u001b[0;34m\u001b[0m\u001b[0;34m\u001b[0m\u001b[0m\n",
      "\u001b[0;31mDocstring:\u001b[0m\n",
      "Return the indices of the elements that are non-zero.\n",
      "\n",
      "Returns a tuple of arrays, one for each dimension of `a`,\n",
      "containing the indices of the non-zero elements in that\n",
      "dimension. The values in `a` are always tested and returned in\n",
      "row-major, C-style order.\n",
      "\n",
      "To group the indices by element, rather than dimension, use `argwhere`,\n",
      "which returns a row for each non-zero element.\n",
      "\n",
      ".. note::\n",
      "\n",
      "   When called on a zero-d array or scalar, ``nonzero(a)`` is treated\n",
      "   as ``nonzero(atleast_1d(a))``.\n",
      "\n",
      "   .. deprecated:: 1.17.0\n",
      "\n",
      "      Use `atleast_1d` explicitly if this behavior is deliberate.\n",
      "\n",
      "Parameters\n",
      "----------\n",
      "a : array_like\n",
      "    Input array.\n",
      "\n",
      "Returns\n",
      "-------\n",
      "tuple_of_arrays : tuple\n",
      "    Indices of elements that are non-zero.\n",
      "\n",
      "See Also\n",
      "--------\n",
      "flatnonzero :\n",
      "    Return indices that are non-zero in the flattened version of the input\n",
      "    array.\n",
      "ndarray.nonzero :\n",
      "    Equivalent ndarray method.\n",
      "count_nonzero :\n",
      "    Counts the number of non-zero elements in the input array.\n",
      "\n",
      "Notes\n",
      "-----\n",
      "While the nonzero values can be obtained with ``a[nonzero(a)]``, it is\n",
      "recommended to use ``x[x.astype(bool)]`` or ``x[x != 0]`` instead, which\n",
      "will correctly handle 0-d arrays.\n",
      "\n",
      "Examples\n",
      "--------\n",
      ">>> x = np.array([[3, 0, 0], [0, 4, 0], [5, 6, 0]])\n",
      ">>> x\n",
      "array([[3, 0, 0],\n",
      "       [0, 4, 0],\n",
      "       [5, 6, 0]])\n",
      ">>> np.nonzero(x)\n",
      "(array([0, 1, 2, 2]), array([0, 1, 0, 1]))\n",
      "\n",
      ">>> x[np.nonzero(x)]\n",
      "array([3, 4, 5, 6])\n",
      ">>> np.transpose(np.nonzero(x))\n",
      "array([[0, 0],\n",
      "       [1, 1],\n",
      "       [2, 0],\n",
      "       [2, 1]])\n",
      "\n",
      "A common use for ``nonzero`` is to find the indices of an array, where\n",
      "a condition is True.  Given an array `a`, the condition `a` > 3 is a\n",
      "boolean array and since False is interpreted as 0, np.nonzero(a > 3)\n",
      "yields the indices of the `a` where the condition is true.\n",
      "\n",
      ">>> a = np.array([[1, 2, 3], [4, 5, 6], [7, 8, 9]])\n",
      ">>> a > 3\n",
      "array([[False, False, False],\n",
      "       [ True,  True,  True],\n",
      "       [ True,  True,  True]])\n",
      ">>> np.nonzero(a > 3)\n",
      "(array([1, 1, 1, 2, 2, 2]), array([0, 1, 2, 0, 1, 2]))\n",
      "\n",
      "Using this result to index `a` is equivalent to using the mask directly:\n",
      "\n",
      ">>> a[np.nonzero(a > 3)]\n",
      "array([4, 5, 6, 7, 8, 9])\n",
      ">>> a[a > 3]  # prefer this spelling\n",
      "array([4, 5, 6, 7, 8, 9])\n",
      "\n",
      "``nonzero`` can also be called as a method of the array.\n",
      "\n",
      ">>> (a > 3).nonzero()\n",
      "(array([1, 1, 1, 2, 2, 2]), array([0, 1, 2, 0, 1, 2]))\n",
      "\u001b[0;31mFile:\u001b[0m      /opt/anaconda3/lib/python3.8/site-packages/numpy/core/fromnumeric.py\n",
      "\u001b[0;31mType:\u001b[0m      function\n"
     ],
     "name": "stdout"
    }
   ],
   "source": [
    "np.nonzero?"
   ]
  },
  {
   "cell_type": "code",
   "execution_count": 30,
   "metadata": {},
   "outputs": [
    {
     "output_type": "execute_result",
     "data": {
      "text/plain": [
       "3"
      ]
     },
     "metadata": {},
     "execution_count": 30
    }
   ],
   "source": [
    "np.argwhere(a == 10)[0][0]"
   ]
  },
  {
   "cell_type": "code",
   "execution_count": 50,
   "metadata": {},
   "outputs": [],
   "source": [
    "r = np.round(10*np.random.rand(3,3))"
   ]
  },
  {
   "cell_type": "code",
   "execution_count": 51,
   "metadata": {},
   "outputs": [
    {
     "output_type": "execute_result",
     "data": {
      "text/plain": [
       "array([[8., 1., 8.],\n",
       "       [2., 3., 5.],\n",
       "       [8., 9., 9.]])"
      ]
     },
     "metadata": {},
     "execution_count": 51
    }
   ],
   "source": [
    "r"
   ]
  },
  {
   "cell_type": "code",
   "execution_count": 53,
   "metadata": {},
   "outputs": [
    {
     "output_type": "execute_result",
     "data": {
      "text/plain": [
       "array([8., 5., 9.])"
      ]
     },
     "metadata": {},
     "execution_count": 53
    }
   ],
   "source": [
    "r[:,2]"
   ]
  },
  {
   "cell_type": "code",
   "execution_count": 36,
   "metadata": {},
   "outputs": [
    {
     "output_type": "execute_result",
     "data": {
      "text/plain": [
       "array([2.])"
      ]
     },
     "metadata": {},
     "execution_count": 36
    }
   ],
   "source": [
    "r[1,0:1]"
   ]
  },
  {
   "cell_type": "code",
   "execution_count": 37,
   "metadata": {},
   "outputs": [
    {
     "output_type": "execute_result",
     "data": {
      "text/plain": [
       "array([6., 2.])"
      ]
     },
     "metadata": {},
     "execution_count": 37
    }
   ],
   "source": [
    "r[:,1]"
   ]
  },
  {
   "cell_type": "code",
   "execution_count": 38,
   "metadata": {},
   "outputs": [
    {
     "output_type": "execute_result",
     "data": {
      "text/plain": [
       "array([[3., 6., 4.],\n",
       "       [2., 2., 4.]])"
      ]
     },
     "metadata": {},
     "execution_count": 38
    }
   ],
   "source": [
    "r[:]"
   ]
  },
  {
   "cell_type": "code",
   "execution_count": 54,
   "metadata": {},
   "outputs": [
    {
     "output_type": "execute_result",
     "data": {
      "text/plain": [
       "array([8., 1., 8.])"
      ]
     },
     "metadata": {},
     "execution_count": 54
    }
   ],
   "source": [
    "r[0,:]"
   ]
  },
  {
   "cell_type": "code",
   "execution_count": 56,
   "metadata": {},
   "outputs": [],
   "source": [
    "l = np.round(10*np.random.rand(3,3,4))"
   ]
  },
  {
   "cell_type": "code",
   "execution_count": 57,
   "metadata": {},
   "outputs": [
    {
     "output_type": "execute_result",
     "data": {
      "text/plain": [
       "array([[[ 3.,  7.,  8.,  5.],\n",
       "        [ 8.,  5.,  8.,  3.],\n",
       "        [ 0.,  4.,  2.,  3.]],\n",
       "\n",
       "       [[ 4.,  1.,  6.,  2.],\n",
       "        [ 8.,  2.,  4.,  1.],\n",
       "        [ 4.,  2.,  3.,  1.]],\n",
       "\n",
       "       [[ 1.,  1.,  3.,  7.],\n",
       "        [ 7.,  8.,  9.,  8.],\n",
       "        [10.,  8., 10.,  7.]]])"
      ]
     },
     "metadata": {},
     "execution_count": 57
    }
   ],
   "source": [
    "l"
   ]
  },
  {
   "cell_type": "code",
   "execution_count": 59,
   "metadata": {},
   "outputs": [
    {
     "output_type": "execute_result",
     "data": {
      "text/plain": [
       "array([4., 1., 6., 2.])"
      ]
     },
     "metadata": {},
     "execution_count": 59
    }
   ],
   "source": [
    "l[1,0]"
   ]
  },
  {
   "cell_type": "code",
   "execution_count": 60,
   "metadata": {},
   "outputs": [
    {
     "output_type": "execute_result",
     "data": {
      "text/plain": [
       "4.0"
      ]
     },
     "metadata": {},
     "execution_count": 60
    }
   ],
   "source": [
    "l[1,0,0]"
   ]
  },
  {
   "cell_type": "code",
   "execution_count": 61,
   "metadata": {},
   "outputs": [
    {
     "output_type": "execute_result",
     "data": {
      "text/plain": [
       "array([[3., 7., 8., 5.],\n",
       "       [4., 1., 6., 2.],\n",
       "       [1., 1., 3., 7.]])"
      ]
     },
     "metadata": {},
     "execution_count": 61
    }
   ],
   "source": [
    "l[:,0]"
   ]
  },
  {
   "cell_type": "code",
   "execution_count": null,
   "metadata": {},
   "outputs": [],
   "source": []
  }
 ]
}