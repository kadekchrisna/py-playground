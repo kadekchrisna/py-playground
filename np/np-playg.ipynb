{
 "cells": [
  {
   "cell_type": "code",
   "execution_count": null,
   "id": "1b6f2467",
   "metadata": {},
   "outputs": [],
   "source": [
    "# task 1"
   ]
  },
  {
   "cell_type": "code",
   "execution_count": 1,
   "id": "b67012b5",
   "metadata": {},
   "outputs": [],
   "source": [
    "import numpy as np"
   ]
  },
  {
   "cell_type": "code",
   "execution_count": 10,
   "id": "1866fafd",
   "metadata": {},
   "outputs": [],
   "source": [
    "a = 10*np.random.rand(50)"
   ]
  },
  {
   "cell_type": "code",
   "execution_count": 11,
   "id": "7ac859b0",
   "metadata": {},
   "outputs": [
    {
     "data": {
      "text/plain": [
       "array([5.11529738, 2.68562381, 9.77997958, 6.67305177, 0.86641233,\n",
       "       4.30330408, 8.42123898, 5.46086795, 7.47149233, 4.81585256,\n",
       "       9.22194523, 6.44175623, 3.90514084, 6.87383116, 6.21530202,\n",
       "       2.50183923, 4.47848908, 8.603828  , 3.69777831, 3.28372091,\n",
       "       2.59285383, 0.16490737, 8.3458743 , 9.97380753, 5.98524384,\n",
       "       5.40517706, 5.30270377, 5.07277913, 8.15534758, 5.09129943,\n",
       "       9.1867203 , 2.95389894, 5.87418235, 6.15396146, 1.53721084,\n",
       "       4.54866994, 0.7879712 , 8.30913655, 0.97865716, 7.61913578,\n",
       "       4.59590728, 0.47887532, 9.11066693, 0.36624711, 0.78840177,\n",
       "       2.37336211, 8.41754662, 6.15336833, 9.01049438, 9.26048448])"
      ]
     },
     "execution_count": 11,
     "metadata": {},
     "output_type": "execute_result"
    }
   ],
   "source": [
    "a"
   ]
  },
  {
   "cell_type": "code",
   "execution_count": 5,
   "id": "f569cd24",
   "metadata": {},
   "outputs": [],
   "source": [
    "a = np.floor(a)"
   ]
  },
  {
   "cell_type": "code",
   "execution_count": 6,
   "id": "aabf5cad",
   "metadata": {},
   "outputs": [
    {
     "data": {
      "text/plain": [
       "array([3., 6., 5., 6., 8., 3., 1., 3., 0., 9., 7., 4., 0., 5., 7., 0., 3.,\n",
       "       0., 2., 5., 4., 8., 7., 3., 7., 6., 6., 1., 0., 8., 0., 7., 0., 0.,\n",
       "       2., 4., 0., 3., 4., 5., 8., 2., 8., 3., 7., 8., 1., 1., 4., 7.])"
      ]
     },
     "execution_count": 6,
     "metadata": {},
     "output_type": "execute_result"
    }
   ],
   "source": [
    "a"
   ]
  },
  {
   "cell_type": "code",
   "execution_count": 12,
   "id": "97f2212f",
   "metadata": {},
   "outputs": [],
   "source": [
    "a = np.ceil(a)"
   ]
  },
  {
   "cell_type": "code",
   "execution_count": 13,
   "id": "7a45ef70",
   "metadata": {},
   "outputs": [
    {
     "data": {
      "text/plain": [
       "array([ 6.,  3., 10.,  7.,  1.,  5.,  9.,  6.,  8.,  5., 10.,  7.,  4.,\n",
       "        7.,  7.,  3.,  5.,  9.,  4.,  4.,  3.,  1.,  9., 10.,  6.,  6.,\n",
       "        6.,  6.,  9.,  6., 10.,  3.,  6.,  7.,  2.,  5.,  1.,  9.,  1.,\n",
       "        8.,  5.,  1., 10.,  1.,  1.,  3.,  9.,  7., 10., 10.])"
      ]
     },
     "execution_count": 13,
     "metadata": {},
     "output_type": "execute_result"
    }
   ],
   "source": [
    "a"
   ]
  },
  {
   "cell_type": "code",
   "execution_count": 16,
   "id": "bb3ad911",
   "metadata": {},
   "outputs": [],
   "source": [
    "b = a[a > 5]"
   ]
  },
  {
   "cell_type": "code",
   "execution_count": 17,
   "id": "ad882f55",
   "metadata": {},
   "outputs": [
    {
     "data": {
      "text/plain": [
       "array([ 6., 10.,  7.,  9.,  6.,  8., 10.,  7.,  7.,  7.,  9.,  9., 10.,\n",
       "        6.,  6.,  6.,  6.,  9.,  6., 10.,  6.,  7.,  9.,  8., 10.,  9.,\n",
       "        7., 10., 10.])"
      ]
     },
     "execution_count": 17,
     "metadata": {},
     "output_type": "execute_result"
    }
   ],
   "source": [
    "b"
   ]
  },
  {
   "cell_type": "code",
   "execution_count": 19,
   "id": "f6fe2101",
   "metadata": {},
   "outputs": [],
   "source": [
    "b = np.sort(b)"
   ]
  },
  {
   "cell_type": "code",
   "execution_count": 20,
   "id": "d35320ee",
   "metadata": {},
   "outputs": [
    {
     "data": {
      "text/plain": [
       "array([ 6.,  6.,  6.,  6.,  6.,  6.,  6.,  6.,  7.,  7.,  7.,  7.,  7.,\n",
       "        7.,  8.,  8.,  9.,  9.,  9.,  9.,  9.,  9., 10., 10., 10., 10.,\n",
       "       10., 10., 10.])"
      ]
     },
     "execution_count": 20,
     "metadata": {},
     "output_type": "execute_result"
    }
   ],
   "source": [
    "b"
   ]
  },
  {
   "cell_type": "code",
   "execution_count": 22,
   "id": "31d5979a",
   "metadata": {},
   "outputs": [],
   "source": [
    "a = np.sort(a)[::-1]"
   ]
  },
  {
   "cell_type": "code",
   "execution_count": 23,
   "id": "d4b367a5",
   "metadata": {},
   "outputs": [
    {
     "data": {
      "text/plain": [
       "array([10., 10., 10., 10., 10., 10., 10.,  9.,  9.,  9.,  9.,  9.,  9.,\n",
       "        8.,  8.,  7.,  7.,  7.,  7.,  7.,  7.,  6.,  6.,  6.,  6.,  6.,\n",
       "        6.,  6.,  6.,  5.,  5.,  5.,  5.,  5.,  4.,  4.,  4.,  3.,  3.,\n",
       "        3.,  3.,  3.,  2.,  1.,  1.,  1.,  1.,  1.,  1.,  1.])"
      ]
     },
     "execution_count": 23,
     "metadata": {},
     "output_type": "execute_result"
    }
   ],
   "source": [
    "a"
   ]
  },
  {
   "cell_type": "code",
   "execution_count": 42,
   "id": "e7085164",
   "metadata": {},
   "outputs": [
    {
     "data": {
      "text/plain": [
       "numpy.ndarray"
      ]
     },
     "execution_count": 42,
     "metadata": {},
     "output_type": "execute_result"
    }
   ],
   "source": [
    "arr = np.arange(18).reshape(3,2,3)\n",
    "arr\n",
    "type(arr)"
   ]
  },
  {
   "cell_type": "code",
   "execution_count": 33,
   "id": "839fe12a",
   "metadata": {},
   "outputs": [
    {
     "data": {
      "text/plain": [
       "array([[ 1,  4],\n",
       "       [ 7, 10],\n",
       "       [13, 16]])"
      ]
     },
     "execution_count": 33,
     "metadata": {},
     "output_type": "execute_result"
    }
   ],
   "source": [
    "arr[:,:,1]"
   ]
  },
  {
   "cell_type": "code",
   "execution_count": 32,
   "id": "021d4df6",
   "metadata": {},
   "outputs": [
    {
     "data": {
      "text/plain": [
       "array([[1, 4]])"
      ]
     },
     "execution_count": 32,
     "metadata": {},
     "output_type": "execute_result"
    }
   ],
   "source": [
    "arr[:1,:,1]"
   ]
  },
  {
   "cell_type": "code",
   "execution_count": 41,
   "id": "8a50fa61",
   "metadata": {},
   "outputs": [
    {
     "data": {
      "text/plain": [
       "array([[1, 4]])"
      ]
     },
     "execution_count": 41,
     "metadata": {},
     "output_type": "execute_result"
    }
   ],
   "source": [
    "arr[:1,:,1]"
   ]
  },
  {
   "cell_type": "code",
   "execution_count": null,
   "id": "28ba7740",
   "metadata": {},
   "outputs": [],
   "source": [
    "# 2D"
   ]
  },
  {
   "cell_type": "code",
   "execution_count": 28,
   "id": "1f1c9c88",
   "metadata": {},
   "outputs": [],
   "source": [
    "two_d_array = np.array([[1, 2, 3], [4, 5, 6]])"
   ]
  },
  {
   "cell_type": "code",
   "execution_count": 29,
   "id": "d0c6decb",
   "metadata": {},
   "outputs": [
    {
     "data": {
      "text/plain": [
       "(2, 3)"
      ]
     },
     "execution_count": 29,
     "metadata": {},
     "output_type": "execute_result"
    }
   ],
   "source": [
    "two_d_array.shape"
   ]
  },
  {
   "cell_type": "code",
   "execution_count": 30,
   "id": "2547e7ae",
   "metadata": {},
   "outputs": [
    {
     "data": {
      "text/plain": [
       "array([[1, 2, 3],\n",
       "       [4, 5, 6]])"
      ]
     },
     "execution_count": 30,
     "metadata": {},
     "output_type": "execute_result"
    }
   ],
   "source": [
    "two_d_array"
   ]
  },
  {
   "cell_type": "code",
   "execution_count": 31,
   "id": "fe5e905b",
   "metadata": {},
   "outputs": [
    {
     "data": {
      "text/plain": [
       "2"
      ]
     },
     "execution_count": 31,
     "metadata": {},
     "output_type": "execute_result"
    }
   ],
   "source": [
    "two_d_array[0,1]"
   ]
  },
  {
   "cell_type": "code",
   "execution_count": 39,
   "id": "d9b62757",
   "metadata": {},
   "outputs": [
    {
     "data": {
      "text/plain": [
       "array([[1],\n",
       "       [4]])"
      ]
     },
     "execution_count": 39,
     "metadata": {},
     "output_type": "execute_result"
    }
   ],
   "source": [
    "two_d_array[0:2:,0:1]"
   ]
  },
  {
   "cell_type": "code",
   "execution_count": null,
   "id": "8ba6f557",
   "metadata": {},
   "outputs": [],
   "source": []
  },
  {
   "cell_type": "code",
   "execution_count": null,
   "id": "f3b95960",
   "metadata": {},
   "outputs": [],
   "source": []
  },
  {
   "cell_type": "code",
   "execution_count": null,
   "id": "0cc020a6",
   "metadata": {},
   "outputs": [],
   "source": []
  },
  {
   "cell_type": "code",
   "execution_count": null,
   "id": "455473b0",
   "metadata": {},
   "outputs": [],
   "source": [
    "# 3D"
   ]
  },
  {
   "cell_type": "code",
   "execution_count": 14,
   "id": "407818b5",
   "metadata": {},
   "outputs": [
    {
     "data": {
      "text/plain": [
       "(3, 3, 3)"
      ]
     },
     "execution_count": 14,
     "metadata": {},
     "output_type": "execute_result"
    }
   ],
   "source": [
    "# Think of it as a stack of 2D arrays (depth, rows, columns)\n",
    "three_d_array = np.array([\n",
    "    [\n",
    "        [1, 2, 3],\n",
    "        [4, 5, 6],\n",
    "        [7, 8, 9],\n",
    "    ],\n",
    "    [\n",
    "        [10, 11, 12],\n",
    "        [13, 14, 15],\n",
    "        [16, 17, 18],\n",
    "    ],\n",
    "    [\n",
    "        [19, 20, 21],\n",
    "        [22, 23, 24],\n",
    "        [25, 26, 27],\n",
    "    ],\n",
    "])\n",
    "\n",
    "three_d_array.shape\n"
   ]
  },
  {
   "cell_type": "code",
   "execution_count": 15,
   "id": "1a6c9dfe",
   "metadata": {},
   "outputs": [
    {
     "data": {
      "text/plain": [
       "array([[[ 1,  2,  3],\n",
       "        [ 4,  5,  6],\n",
       "        [ 7,  8,  9]],\n",
       "\n",
       "       [[10, 11, 12],\n",
       "        [13, 14, 15],\n",
       "        [16, 17, 18]],\n",
       "\n",
       "       [[19, 20, 21],\n",
       "        [22, 23, 24],\n",
       "        [25, 26, 27]]])"
      ]
     },
     "execution_count": 15,
     "metadata": {},
     "output_type": "execute_result"
    }
   ],
   "source": [
    "three_d_array"
   ]
  },
  {
   "cell_type": "code",
   "execution_count": 9,
   "id": "104c834e",
   "metadata": {},
   "outputs": [
    {
     "data": {
      "text/plain": [
       "array([[2, 3],\n",
       "       [5, 6]])"
      ]
     },
     "execution_count": 9,
     "metadata": {},
     "output_type": "execute_result"
    }
   ],
   "source": [
    "\n",
    "# 4. Slicing a subarray in one \"layer\":\n",
    "slice_subarray = three_d_array[0, 0:2, 1:3]  # This selects a subarray from the first \"layer\"\n",
    "slice_subarray"
   ]
  },
  {
   "cell_type": "code",
   "execution_count": 10,
   "id": "331e0177",
   "metadata": {},
   "outputs": [
    {
     "data": {
      "text/plain": [
       "array([[[ 1,  2,  3],\n",
       "        [ 7,  8,  9]],\n",
       "\n",
       "       [[10, 11, 12],\n",
       "        [16, 17, 18]],\n",
       "\n",
       "       [[19, 20, 21],\n",
       "        [25, 26, 27]]])"
      ]
     },
     "execution_count": 10,
     "metadata": {},
     "output_type": "execute_result"
    }
   ],
   "source": [
    "\n",
    "# 5. Slicing with step size (e.g., every other row in all \"layers\"):\n",
    "slice_step = three_d_array[:, 0::2, :]\n",
    "slice_step"
   ]
  },
  {
   "cell_type": "code",
   "execution_count": 19,
   "id": "38caa8eb",
   "metadata": {},
   "outputs": [
    {
     "data": {
      "text/plain": [
       "6"
      ]
     },
     "execution_count": 19,
     "metadata": {},
     "output_type": "execute_result"
    }
   ],
   "source": [
    "three_d_array[0,1,2] # depth, row, column"
   ]
  },
  {
   "cell_type": "code",
   "execution_count": 45,
   "id": "63f28473",
   "metadata": {},
   "outputs": [
    {
     "data": {
      "text/plain": [
       "array([[[ 6],\n",
       "        [ 9]],\n",
       "\n",
       "       [[15],\n",
       "        [18]],\n",
       "\n",
       "       [[24],\n",
       "        [27]]])"
      ]
     },
     "execution_count": 45,
     "metadata": {},
     "output_type": "execute_result"
    }
   ],
   "source": [
    "three_d_array[0::,1::,2::] # array depth, array row, array column\n",
    "# taking first depth, \n",
    "# first row and on of all depth\n",
    "# second column of first row and on of all depth"
   ]
  },
  {
   "cell_type": "code",
   "execution_count": 44,
   "id": "0069cce4",
   "metadata": {},
   "outputs": [
    {
     "data": {
      "text/plain": [
       "array([[[ 1]],\n",
       "\n",
       "       [[10]],\n",
       "\n",
       "       [[19]]])"
      ]
     },
     "execution_count": 44,
     "metadata": {},
     "output_type": "execute_result"
    }
   ],
   "source": [
    "three_d_array[0:3,0:1,0:1]"
   ]
  },
  {
   "cell_type": "code",
   "execution_count": null,
   "id": "f53caa05",
   "metadata": {},
   "outputs": [],
   "source": []
  },
  {
   "cell_type": "code",
   "execution_count": null,
   "id": "8b3b2a17",
   "metadata": {},
   "outputs": [],
   "source": []
  },
  {
   "cell_type": "code",
   "execution_count": null,
   "id": "2c62efe9",
   "metadata": {},
   "outputs": [],
   "source": [
    "# 4D "
   ]
  },
  {
   "cell_type": "code",
   "execution_count": 2,
   "id": "8bf14779",
   "metadata": {},
   "outputs": [],
   "source": [
    "shape = (2, 3, 4, 5)  # Dimensions (A, B, C, D)\n",
    "four_d_array = np.random.rand(*shape)"
   ]
  },
  {
   "cell_type": "code",
   "execution_count": 3,
   "id": "152365ad",
   "metadata": {},
   "outputs": [
    {
     "data": {
      "text/plain": [
       "array([[[[0.94616897, 0.55635635, 0.30420078, 0.67645012, 0.95835067],\n",
       "         [0.79054347, 0.76528905, 0.09108072, 0.19241087, 0.86981898],\n",
       "         [0.44415715, 0.05975985, 0.25294372, 0.90461638, 0.44931205],\n",
       "         [0.28785458, 0.57605715, 0.18116933, 0.28172158, 0.84096964]],\n",
       "\n",
       "        [[0.81164996, 0.15741708, 0.80032084, 0.95495319, 0.98644114],\n",
       "         [0.38567335, 0.30722448, 0.77560501, 0.27177344, 0.62304439],\n",
       "         [0.6301935 , 0.87351941, 0.48217314, 0.31189635, 0.72812925],\n",
       "         [0.18762997, 0.83274442, 0.65788202, 0.43898231, 0.40336754]],\n",
       "\n",
       "        [[0.04313833, 0.21724136, 0.9247116 , 0.21132877, 0.03604082],\n",
       "         [0.08969619, 0.58444895, 0.79037622, 0.54288334, 0.39850653],\n",
       "         [0.71467024, 0.19577765, 0.46208835, 0.7825262 , 0.97443899],\n",
       "         [0.47268488, 0.63253886, 0.15658208, 0.96418444, 0.0134346 ]]],\n",
       "\n",
       "\n",
       "       [[[0.83200163, 0.79397849, 0.41289513, 0.29858133, 0.85310931],\n",
       "         [0.72389458, 0.16578507, 0.45949144, 0.97625492, 0.11478939],\n",
       "         [0.65547942, 0.8504888 , 0.98188544, 0.03725534, 0.80462692],\n",
       "         [0.6415477 , 0.73355405, 0.97563395, 0.66956848, 0.46862733]],\n",
       "\n",
       "        [[0.60695065, 0.06093254, 0.973301  , 0.07953777, 0.3784225 ],\n",
       "         [0.73128587, 0.65236832, 0.54118924, 0.92066222, 0.92129757],\n",
       "         [0.29921572, 0.63779406, 0.45421958, 0.37839893, 0.14323552],\n",
       "         [0.05736067, 0.66963305, 0.40861515, 0.24572854, 0.29911446]],\n",
       "\n",
       "        [[0.01715661, 0.60715017, 0.4684102 , 0.33279483, 0.28396471],\n",
       "         [0.26709261, 0.50628484, 0.64870302, 0.50872545, 0.40387754],\n",
       "         [0.65158453, 0.53955556, 0.0424702 , 0.38647674, 0.18279641],\n",
       "         [0.19723161, 0.62167878, 0.09272174, 0.27461598, 0.42228184]]]])"
      ]
     },
     "execution_count": 3,
     "metadata": {},
     "output_type": "execute_result"
    }
   ],
   "source": [
    "four_d_array"
   ]
  },
  {
   "cell_type": "code",
   "execution_count": 4,
   "id": "9acfe9b7",
   "metadata": {},
   "outputs": [
    {
     "data": {
      "text/plain": [
       "(2, 3, 4, 5)"
      ]
     },
     "execution_count": 4,
     "metadata": {},
     "output_type": "execute_result"
    }
   ],
   "source": [
    "four_d_array.shape"
   ]
  },
  {
   "cell_type": "code",
   "execution_count": 27,
   "id": "9c839b12",
   "metadata": {},
   "outputs": [
    {
     "data": {
      "text/plain": [
       "0.9461689741339491"
      ]
     },
     "execution_count": 27,
     "metadata": {},
     "output_type": "execute_result"
    }
   ],
   "source": [
    "four_d_array[0,0,0,0]"
   ]
  }
 ],
 "metadata": {
  "kernelspec": {
   "display_name": "Python 3 (ipykernel)",
   "language": "python",
   "name": "python3"
  },
  "language_info": {
   "codemirror_mode": {
    "name": "ipython",
    "version": 3
   },
   "file_extension": ".py",
   "mimetype": "text/x-python",
   "name": "python",
   "nbconvert_exporter": "python",
   "pygments_lexer": "ipython3",
   "version": "3.11.4"
  }
 },
 "nbformat": 4,
 "nbformat_minor": 5
}
