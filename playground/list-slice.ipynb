{
 "cells": [
  {
   "cell_type": "code",
   "execution_count": 2,
   "id": "60487278",
   "metadata": {},
   "outputs": [],
   "source": [
    "letter = ['a','b','c','d','e','d','f','g','h','i','j']"
   ]
  },
  {
   "cell_type": "code",
   "execution_count": 4,
   "id": "cfd4fd40",
   "metadata": {},
   "outputs": [
    {
     "data": {
      "text/plain": [
       "['a', 'b', 'c', 'd', 'e', 'd', 'f', 'g', 'h', 'i', 'j']"
      ]
     },
     "execution_count": 4,
     "metadata": {},
     "output_type": "execute_result"
    }
   ],
   "source": [
    "letter"
   ]
  },
  {
   "cell_type": "code",
   "execution_count": 5,
   "id": "0c4e10d9",
   "metadata": {},
   "outputs": [
    {
     "data": {
      "text/plain": [
       "['c', 'd', 'e', 'd']"
      ]
     },
     "execution_count": 5,
     "metadata": {},
     "output_type": "execute_result"
    }
   ],
   "source": [
    "letter[2:6] # this operation called slice. slice will make a copy of the list (shallow copy https://docs.python.org/3/library/copy.html#shallow-vs-deep-copy)"
   ]
  },
  {
   "cell_type": "code",
   "execution_count": 6,
   "id": "f6d3ec61",
   "metadata": {},
   "outputs": [
    {
     "data": {
      "text/plain": [
       "['a', 'b', 'c', 'd', 'e', 'd', 'f', 'g', 'h', 'i']"
      ]
     },
     "execution_count": 6,
     "metadata": {},
     "output_type": "execute_result"
    }
   ],
   "source": [
    "letter[:-1] #:-1 will count from last index for the last index of the new list"
   ]
  },
  {
   "cell_type": "code",
   "execution_count": 7,
   "id": "c3b0eea4",
   "metadata": {},
   "outputs": [
    {
     "data": {
      "text/plain": [
       "['b', 'c', 'd', 'e', 'd', 'f', 'g', 'h', 'i']"
      ]
     },
     "execution_count": 7,
     "metadata": {},
     "output_type": "execute_result"
    }
   ],
   "source": [
    "letter[1:-1]"
   ]
  },
  {
   "cell_type": "code",
   "execution_count": 8,
   "id": "2c4cc21e",
   "metadata": {},
   "outputs": [
    {
     "data": {
      "text/plain": [
       "['f', 'g', 'h', 'i', 'j']"
      ]
     },
     "execution_count": 8,
     "metadata": {},
     "output_type": "execute_result"
    }
   ],
   "source": [
    "letter[-5:] #-5: will count from last index for the first index of the new list"
   ]
  },
  {
   "cell_type": "code",
   "execution_count": 3,
   "id": "a0d5c23e",
   "metadata": {},
   "outputs": [
    {
     "data": {
      "text/plain": [
       "['f', 'g', 'h', 'i', 'j']"
      ]
     },
     "execution_count": 3,
     "metadata": {},
     "output_type": "execute_result"
    }
   ],
   "source": [
    "letter[-5::1] "
   ]
  },
  {
   "cell_type": "code",
   "execution_count": 4,
   "id": "7e32e88f",
   "metadata": {},
   "outputs": [
    {
     "data": {
      "text/plain": [
       "['f', 'd', 'e', 'd', 'c', 'b', 'a']"
      ]
     },
     "execution_count": 4,
     "metadata": {},
     "output_type": "execute_result"
    }
   ],
   "source": [
    "letter[-5::-1] # start:end:step. -1 will reverse the list"
   ]
  },
  {
   "cell_type": "code",
   "execution_count": 27,
   "id": "6a67fd0d",
   "metadata": {},
   "outputs": [],
   "source": [
    "letter[-5::-1] = ['a', 'b', 'c','d', 'e','f','g']"
   ]
  },
  {
   "cell_type": "code",
   "execution_count": 30,
   "id": "e47ba2e1",
   "metadata": {},
   "outputs": [
    {
     "data": {
      "text/plain": [
       "['f', 'd', 'e', 'd', 'c', 'b', 'a']"
      ]
     },
     "execution_count": 30,
     "metadata": {},
     "output_type": "execute_result"
    }
   ],
   "source": [
    "letter[-5::-1]"
   ]
  }
 ],
 "metadata": {
  "kernelspec": {
   "display_name": "Python 3 (ipykernel)",
   "language": "python",
   "name": "python3"
  },
  "language_info": {
   "codemirror_mode": {
    "name": "ipython",
    "version": 3
   },
   "file_extension": ".py",
   "mimetype": "text/x-python",
   "name": "python",
   "nbconvert_exporter": "python",
   "pygments_lexer": "ipython3",
   "version": "3.11.4"
  }
 },
 "nbformat": 4,
 "nbformat_minor": 5
}
