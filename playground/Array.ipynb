{
 "cells": [
  {
   "cell_type": "code",
   "execution_count": 101,
   "id": "8f685cde",
   "metadata": {},
   "outputs": [],
   "source": [
    "import numpy as np"
   ]
  },
  {
   "cell_type": "code",
   "execution_count": 103,
   "id": "978b93b8",
   "metadata": {},
   "outputs": [],
   "source": [
    "l = [1,2,3,True]"
   ]
  },
  {
   "cell_type": "code",
   "execution_count": 105,
   "id": "01834057",
   "metadata": {},
   "outputs": [],
   "source": [
    "a = np.array(l)"
   ]
  },
  {
   "cell_type": "code",
   "execution_count": 107,
   "id": "eedffc5e",
   "metadata": {},
   "outputs": [
    {
     "data": {
      "text/plain": [
       "array([1, 2, 3, 1])"
      ]
     },
     "execution_count": 107,
     "metadata": {},
     "output_type": "execute_result"
    }
   ],
   "source": [
    "a"
   ]
  },
  {
   "cell_type": "code",
   "execution_count": 109,
   "id": "df380f30",
   "metadata": {},
   "outputs": [],
   "source": [
    "a[1]= 4"
   ]
  },
  {
   "cell_type": "code",
   "execution_count": 111,
   "id": "7b5756d4",
   "metadata": {},
   "outputs": [
    {
     "data": {
      "text/plain": [
       "array([1, 4, 3, 1])"
      ]
     },
     "execution_count": 111,
     "metadata": {},
     "output_type": "execute_result"
    }
   ],
   "source": [
    "a"
   ]
  },
  {
   "cell_type": "code",
   "execution_count": 113,
   "id": "9862c2d9",
   "metadata": {},
   "outputs": [],
   "source": [
    "aString = np.array(listString)"
   ]
  },
  {
   "cell_type": "code",
   "execution_count": 115,
   "id": "50199b9a",
   "metadata": {},
   "outputs": [
    {
     "data": {
      "text/plain": [
       "array(['a', 'b', 'c', '2'], dtype='<U21')"
      ]
     },
     "execution_count": 115,
     "metadata": {},
     "output_type": "execute_result"
    }
   ],
   "source": [
    "aString"
   ]
  },
  {
   "cell_type": "code",
   "execution_count": null,
   "id": "9d09dd11",
   "metadata": {},
   "outputs": [],
   "source": []
  },
  {
   "cell_type": "code",
   "execution_count": 116,
   "id": "b9f67811",
   "metadata": {},
   "outputs": [
    {
     "data": {
      "text/plain": [
       "'2'"
      ]
     },
     "execution_count": 116,
     "metadata": {},
     "output_type": "execute_result"
    }
   ],
   "source": [
    "aString[3]"
   ]
  },
  {
   "cell_type": "code",
   "execution_count": 117,
   "id": "5ffa3c0f",
   "metadata": {},
   "outputs": [
    {
     "data": {
      "text/plain": [
       "array(['a', 'b', 'c', '2'], dtype='<U21')"
      ]
     },
     "execution_count": 117,
     "metadata": {},
     "output_type": "execute_result"
    }
   ],
   "source": [
    "aString"
   ]
  },
  {
   "cell_type": "code",
   "execution_count": 29,
   "id": "f201afe8",
   "metadata": {},
   "outputs": [
    {
     "data": {
      "text/plain": [
       "array(['b', 'c', '2'], dtype='<U21')"
      ]
     },
     "execution_count": 29,
     "metadata": {},
     "output_type": "execute_result"
    }
   ],
   "source": [
    "aString[1:]"
   ]
  },
  {
   "cell_type": "code",
   "execution_count": 31,
   "id": "0c348e4e",
   "metadata": {},
   "outputs": [
    {
     "data": {
      "text/plain": [
       "array(['2', 'c', 'b', 'a'], dtype='<U21')"
      ]
     },
     "execution_count": 31,
     "metadata": {},
     "output_type": "execute_result"
    }
   ],
   "source": [
    "aString[::-1]"
   ]
  }
 ],
 "metadata": {
  "kernelspec": {
   "display_name": "Python 3",
   "language": "python",
   "name": "python3"
  },
  "language_info": {
   "codemirror_mode": {
    "name": "ipython",
    "version": 3
   },
   "file_extension": ".py",
   "mimetype": "text/x-python",
   "name": "python",
   "nbconvert_exporter": "python",
   "pygments_lexer": "ipython3",
   "version": "3.8.8"
  }
 },
 "nbformat": 4,
 "nbformat_minor": 5
}
